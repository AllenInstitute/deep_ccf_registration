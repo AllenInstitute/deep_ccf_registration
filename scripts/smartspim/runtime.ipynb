{
 "cells": [
  {
   "cell_type": "code",
   "id": "initial_id",
   "metadata": {
    "collapsed": true,
    "ExecuteTime": {
     "end_time": "2025-09-29T21:25:42.367545Z",
     "start_time": "2025-09-29T21:25:40.914466Z"
    }
   },
   "source": [
    "import ants\n",
    "\n",
    "from deep_ccf_registration.datasets.slice_dataset import ExperimentMetadata, SliceDataset, \\\n",
    "    SliceOrientation\n",
    "import json\n",
    "from aind_smartspim_transform_utils.CoordinateTransform import CoordinateTransform\n",
    "\n",
    "with open('/Users/adam.amster/Downloads/SmartSPIM_806624_2025-08-27_15-42-18_stitched_2025-08-28_13-34-06/dataset_meta.json') as f:\n",
    "    dataset_meta = json.load(f)\n",
    "dataset_meta = [ExperimentMetadata.model_validate(x) for x in dataset_meta]\n",
    "\n",
    "experiment_meta = dataset_meta[0]\n",
    "\n",
    "coord_transform = CoordinateTransform(\n",
    "    name='smartspim_lca',\n",
    "    dataset_transforms={\n",
    "        'points_to_ccf': [\n",
    "            str(experiment_meta.ls_to_template_affine_matrix_path),\n",
    "            str(experiment_meta.ls_to_template_inverse_warp_path),\n",
    "        ]\n",
    "    },\n",
    "    acquisition_axes=experiment_meta.axes,\n",
    "    image_metadata={'shape': experiment_meta.registered_shape}\n",
    ")"
   ],
   "outputs": [],
   "execution_count": 2
  },
  {
   "metadata": {
    "ExecuteTime": {
     "end_time": "2025-09-27T11:51:22.769441Z",
     "start_time": "2025-09-27T11:51:22.764777Z"
    }
   },
   "cell_type": "code",
   "source": "coord_transform.ls_template",
   "id": "ae3767144fdae12a",
   "outputs": [
    {
     "data": {
      "text/plain": [
       "ANTsImage (RAS)\n",
       "\t Pixel Type : float (float32)\n",
       "\t Components : 1\n",
       "\t Dimensions : (576, 648, 440)\n",
       "\t Spacing    : (0.025, 0.025, 0.025)\n",
       "\t Origin     : (-1.5114, -1.5, 1.5)\n",
       "\t Direction  : [ 1.  0.  0.  0.  1.  0.  0.  0. -1.]"
      ]
     },
     "execution_count": 14,
     "metadata": {},
     "output_type": "execute_result"
    }
   ],
   "execution_count": 14
  },
  {
   "metadata": {
    "ExecuteTime": {
     "end_time": "2025-09-27T11:50:21.610749Z",
     "start_time": "2025-09-27T11:50:11.570368Z"
    }
   },
   "cell_type": "code",
   "source": "ants.image_read(str(experiment_meta.ls_to_template_inverse_warp_path))",
   "id": "d734413768da4cb7",
   "outputs": [
    {
     "data": {
      "text/plain": [
       "ANTsImage (RAS)\n",
       "\t Pixel Type : float (float32)\n",
       "\t Components : 3\n",
       "\t Dimensions : (576, 648, 440)\n",
       "\t Spacing    : (0.025, 0.025, 0.025)\n",
       "\t Origin     : (-1.5114, -1.5, 1.5)\n",
       "\t Direction  : [ 1.  0.  0.  0.  1.  0.  0.  0. -1.]"
      ]
     },
     "execution_count": 12,
     "metadata": {},
     "output_type": "execute_result"
    }
   ],
   "execution_count": 12
  },
  {
   "metadata": {
    "ExecuteTime": {
     "end_time": "2025-09-29T13:54:36.073895Z",
     "start_time": "2025-09-29T13:54:36.064851Z"
    }
   },
   "cell_type": "code",
   "source": [
    "from deep_ccf_registration.datasets.slice_dataset import _create_coordinate_dataframe\n",
    "\n",
    "slice_axis = slice_dataset._get_slice_axis(axes=experiment_meta.axes)\n",
    "\n",
    "height = experiment_meta.registered_shape[[x.dimension for x in experiment_meta.axes if x.name != slice_axis.name][0]]\n",
    "width = experiment_meta.registered_shape[[x.dimension for x in experiment_meta.axes if x.name != slice_axis.name][1]]\n",
    "\n",
    "point_grid = _create_coordinate_dataframe(\n",
    "    height=height,\n",
    "    width=width,\n",
    "    fixed_index_value=200\n",
    ")"
   ],
   "id": "b4b13097a080e0c7",
   "outputs": [],
   "execution_count": 2
  },
  {
   "metadata": {
    "ExecuteTime": {
     "end_time": "2025-09-29T14:16:14.900274Z",
     "start_time": "2025-09-29T14:16:08.672963Z"
    }
   },
   "cell_type": "code",
   "source": [
    "ls_template_points_ants = coord_transform.forward_transform(\n",
    "    points=point_grid,\n",
    "    points_resolution=list(experiment_meta.registered_resolution)\n",
    ")"
   ],
   "id": "8f2d106506957669",
   "outputs": [],
   "execution_count": 19
  },
  {
   "metadata": {},
   "cell_type": "markdown",
   "source": "",
   "id": "df0cf4af53f110c9"
  },
  {
   "metadata": {},
   "cell_type": "markdown",
   "source": "## SimpleITK using in-memory warp",
   "id": "28e652296e8dab96"
  },
  {
   "metadata": {
    "ExecuteTime": {
     "end_time": "2025-09-29T13:54:47.281941Z",
     "start_time": "2025-09-29T13:54:41.217165Z"
    }
   },
   "cell_type": "code",
   "source": [
    "import SimpleITK as sitk\n",
    "\n",
    "def load_warp_sitk():\n",
    "    warp_img = sitk.ReadImage(str(experiment_meta.ls_to_template_inverse_warp_path))\n",
    "    warp_img = sitk.Cast(warp_img, sitk.sitkVectorFloat64)\n",
    "    inverse_warp = sitk.DisplacementFieldTransform(warp_img)\n",
    "    return inverse_warp\n",
    "inverse_warp = load_warp_sitk()\n",
    "inverse_warp"
   ],
   "id": "baea3d80736e5177",
   "outputs": [
    {
     "data": {
      "text/plain": [
       "<SimpleITK.SimpleITK.DisplacementFieldTransform; proxy of <Swig Object of type 'itk::simple::DisplacementFieldTransform *' at 0x142cf2850> >"
      ]
     },
     "execution_count": 3,
     "metadata": {},
     "output_type": "execute_result"
    }
   ],
   "execution_count": 3
  },
  {
   "metadata": {
    "ExecuteTime": {
     "end_time": "2025-09-29T15:07:02.991675Z",
     "start_time": "2025-09-29T15:06:50.832057Z"
    }
   },
   "cell_type": "code",
   "source": [
    "def load_warp_numpy():\n",
    "    warp_img = ants.image_read(str(experiment_meta.ls_to_template_inverse_warp_path))\n",
    "    return warp_img.numpy()\n",
    "inverse_warp_numpy = load_warp_numpy()"
   ],
   "id": "dcea1e146e16444f",
   "outputs": [],
   "execution_count": 39
  },
  {
   "metadata": {
    "ExecuteTime": {
     "end_time": "2025-09-29T14:52:52.070404Z",
     "start_time": "2025-09-29T14:52:52.067460Z"
    }
   },
   "cell_type": "code",
   "source": [
    "from pathlib import Path\n",
    "from aind_smartspim_transform_utils.utils import utils\n",
    "import numpy as np\n",
    "import pandas as pd"
   ],
   "id": "df28065cd503830a",
   "outputs": [],
   "execution_count": 27
  },
  {
   "metadata": {
    "ExecuteTime": {
     "end_time": "2025-09-29T14:52:57.206993Z",
     "start_time": "2025-09-29T14:52:56.420679Z"
    }
   },
   "cell_type": "code",
   "source": [
    "def apply_transform_sitk(warp: sitk.DisplacementFieldTransform, affine_path: Path):\n",
    "    points = coord_transform.prepare_points_for_forward_transform(\n",
    "        points=point_grid,\n",
    "        points_resolution=list(experiment_meta.registered_resolution)\n",
    "    )\n",
    "    affine_transformed_points = utils.apply_transforms_to_points(\n",
    "        ants_pts=points,\n",
    "        transforms=[str(affine_path)],\n",
    "        invert=(True,)\n",
    "    )\n",
    "    transformed_points = np.zeros_like(affine_transformed_points)\n",
    "\n",
    "    for i, point in enumerate(affine_transformed_points):\n",
    "        transformed_points[i] = warp.TransformPoint(point.tolist())\n",
    "\n",
    "    transformed_points = utils.convert_from_ants_space(\n",
    "        coord_transform.ls_template_info, transformed_points\n",
    "    )\n",
    "\n",
    "    transformed_df = pd.DataFrame(\n",
    "        transformed_points, columns=[\"ML\", \"AP\", \"DV\"]\n",
    "    )\n",
    "    return transformed_df\n",
    "ls_template_points_sitk = apply_transform_sitk(warp=inverse_warp, affine_path=experiment_meta.ls_to_template_affine_matrix_path)"
   ],
   "id": "eccf6927961d5ef",
   "outputs": [],
   "execution_count": 29
  },
  {
   "metadata": {
    "ExecuteTime": {
     "end_time": "2025-09-29T15:00:39.541861Z",
     "start_time": "2025-09-29T15:00:39.517447Z"
    }
   },
   "cell_type": "code",
   "source": "np.testing.assert_allclose(ls_template_points_ants.values, ls_template_points_sitk.values)",
   "id": "e424e124f46fedbf",
   "outputs": [],
   "execution_count": 30
  },
  {
   "metadata": {
    "ExecuteTime": {
     "end_time": "2025-09-29T15:11:26.314634Z",
     "start_time": "2025-09-29T15:11:26.309714Z"
    }
   },
   "cell_type": "code",
   "source": [
    "from scipy.ndimage import map_coordinates\n",
    "\n",
    "\n",
    "def apply_transform_scipy(warp: np.ndarray, affine_path: Path):\n",
    "    points = coord_transform.prepare_points_for_forward_transform(\n",
    "        points=point_grid,\n",
    "        points_resolution=list(experiment_meta.registered_resolution)\n",
    "    )\n",
    "    affine_transformed_points = utils.apply_transforms_to_points(\n",
    "        ants_pts=points,\n",
    "        transforms=[str(affine_path)],\n",
    "        invert=(True,)\n",
    "    )\n",
    "    displacements = np.zeros((len(affine_transformed_points), 3))\n",
    "\n",
    "    for component in range(3):\n",
    "        displacements[:, component] = map_coordinates(\n",
    "            warp[:, :, :, component],\n",
    "            affine_transformed_points.T,\n",
    "            order=1,\n",
    "            mode='nearest',\n",
    "            prefilter=False\n",
    "        )\n",
    "\n",
    "    transformed_points = affine_transformed_points - displacements\n",
    "\n",
    "    transformed_points = utils.convert_from_ants_space(\n",
    "        coord_transform.ls_template_info, transformed_points\n",
    "    )\n",
    "\n",
    "    transformed_df = pd.DataFrame(\n",
    "        transformed_points, columns=[\"ML\", \"AP\", \"DV\"]\n",
    "    )\n",
    "    return transformed_df"
   ],
   "id": "a3b8470dc2ccacd2",
   "outputs": [],
   "execution_count": 43
  },
  {
   "metadata": {
    "ExecuteTime": {
     "end_time": "2025-09-29T15:11:45.135456Z",
     "start_time": "2025-09-29T15:11:44.781185Z"
    }
   },
   "cell_type": "code",
   "source": "ls_template_points_numpy = apply_transform_scipy(warp=inverse_warp_numpy, affine_path=experiment_meta.ls_to_template_affine_matrix_path)",
   "id": "6c2b130c95be8331",
   "outputs": [],
   "execution_count": 45
  },
  {
   "metadata": {
    "ExecuteTime": {
     "end_time": "2025-09-29T15:12:01.015371Z",
     "start_time": "2025-09-29T15:12:00.992785Z"
    }
   },
   "cell_type": "code",
   "source": "np.testing.assert_allclose(ls_template_points_ants.values, ls_template_points_numpy.values)",
   "id": "760bd16c4b3d3395",
   "outputs": [],
   "execution_count": 46
  }
 ],
 "metadata": {
  "kernelspec": {
   "display_name": "Python 3",
   "language": "python",
   "name": "python3"
  },
  "language_info": {
   "codemirror_mode": {
    "name": "ipython",
    "version": 2
   },
   "file_extension": ".py",
   "mimetype": "text/x-python",
   "name": "python",
   "nbconvert_exporter": "python",
   "pygments_lexer": "ipython2",
   "version": "2.7.6"
  }
 },
 "nbformat": 4,
 "nbformat_minor": 5
}

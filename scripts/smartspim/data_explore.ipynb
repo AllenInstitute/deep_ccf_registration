{
 "cells": [
  {
   "cell_type": "code",
   "id": "initial_id",
   "metadata": {
    "collapsed": true,
    "ExecuteTime": {
     "end_time": "2025-09-26T16:42:45.394128Z",
     "start_time": "2025-09-26T16:42:34.792222Z"
    }
   },
   "source": [
    "import os\n",
    "from botocore.exceptions import ClientError\n",
    "from tqdm import tqdm\n",
    "\n",
    "from deep_ccf_registration.datasets.slice_dataset import SubjectMetadata, AcquisitionAxis"
   ],
   "outputs": [],
   "execution_count": 7
  },
  {
   "metadata": {
    "ExecuteTime": {
     "end_time": "2025-09-26T16:43:05.920955Z",
     "start_time": "2025-09-26T16:43:05.918071Z"
    }
   },
   "cell_type": "code",
   "source": "os.environ['AWS_PROFILE'] = '533267145346_ProductionRW'",
   "id": "9fbc3390c647920d",
   "outputs": [],
   "execution_count": 9
  },
  {
   "metadata": {
    "ExecuteTime": {
     "end_time": "2025-09-23T15:05:53.735984Z",
     "start_time": "2025-09-23T15:05:53.724478Z"
    }
   },
   "cell_type": "code",
   "source": [
    "from concurrent.futures import as_completed, ThreadPoolExecutor\n",
    "\n",
    "\n",
    "def list_smartspim_stitched_prefixes(bucket_name, delimiter='/', aws_profile=None):\n",
    "    \"\"\"\n",
    "    List S3 prefixes that start with 'SmartSPIM_' and contain 'stitched' in the name\n",
    "    Example: SmartSPIM_000393_2023-01-06_13-35-10_stitched_2023-02-02_22-28-35/\n",
    "\n",
    "    Args:\n",
    "        bucket_name (str): Name of the S3 bucket\n",
    "        delimiter (str): Delimiter to use for prefix grouping (default: '/')\n",
    "        aws_profile (str, optional): AWS profile name to use\n",
    "\n",
    "    Returns:\n",
    "        list: List of matching prefixes\n",
    "    \"\"\"\n",
    "\n",
    "    # Initialize S3 client\n",
    "    if aws_profile:\n",
    "        session = boto3.Session(profile_name=aws_profile)\n",
    "        s3_client = session.client('s3')\n",
    "    else:\n",
    "        s3_client = boto3.client('s3')\n",
    "\n",
    "    matching_prefixes = []\n",
    "\n",
    "    try:\n",
    "        # Use paginator to handle large numbers of prefixes\n",
    "        paginator = s3_client.get_paginator('list_objects_v2')\n",
    "\n",
    "        # List with prefix \"SmartSPIM_\" and delimiter to get common prefixes\n",
    "        page_iterator = paginator.paginate(\n",
    "            Bucket=bucket_name,\n",
    "            Prefix='SmartSPIM_',\n",
    "            Delimiter=delimiter\n",
    "        )\n",
    "\n",
    "        for page in page_iterator:\n",
    "            # Get common prefixes (directory-like structures)\n",
    "            if 'CommonPrefixes' in page:\n",
    "                for prefix_info in page['CommonPrefixes']:\n",
    "                    prefix = prefix_info['Prefix']\n",
    "                    if 'stitched' in prefix:\n",
    "                        matching_prefixes.append(prefix)\n",
    "\n",
    "    except ClientError as e:\n",
    "        print(f\"Error accessing S3 bucket: {e}\")\n",
    "        return []\n",
    "\n",
    "    return sorted(matching_prefixes)\n",
    "\n",
    "def list_smartspim_atlas_alignments_prefixes(bucket_name, delimiter='/', aws_profile=None):\n",
    "    \"\"\"\n",
    "    Find prefixes following the structure:\n",
    "    SmartSPIM_*stitched*/image_atlas_alignments/\n",
    "\n",
    "    Args:\n",
    "        bucket_name (str): Name of the S3 bucket\n",
    "        delimiter (str): Delimiter to use for prefix grouping (default: '/')\n",
    "        aws_profile (str, optional): AWS profile name to use\n",
    "\n",
    "    Returns:\n",
    "        list: List of image_atlas_alignments prefixes under SmartSPIM stitched directories\n",
    "    \"\"\"\n",
    "\n",
    "    # Initialize S3 client\n",
    "    if aws_profile:\n",
    "        session = boto3.Session(profile_name=aws_profile)\n",
    "        s3_client = session.client('s3')\n",
    "    else:\n",
    "        s3_client = boto3.client('s3')\n",
    "\n",
    "    atlas_prefixes = []\n",
    "\n",
    "    try:\n",
    "        # Step 1: Get all SmartSPIM prefixes that contain 'stitched'\n",
    "        stitched_prefixes = list_smartspim_stitched_prefixes(bucket_name, delimiter, aws_profile)\n",
    "\n",
    "        # Step 2: For each stitched prefix, look for image_atlas_alignments subdirectory\n",
    "        paginator = s3_client.get_paginator('list_objects_v2')\n",
    "\n",
    "        for stitched_prefix in tqdm(stitched_prefixes):\n",
    "            page_iterator = paginator.paginate(\n",
    "                Bucket=bucket_name,\n",
    "                Prefix=stitched_prefix,\n",
    "                Delimiter=delimiter\n",
    "            )\n",
    "\n",
    "            for page in page_iterator:\n",
    "                if 'CommonPrefixes' in page:\n",
    "                    for prefix_info in page['CommonPrefixes']:\n",
    "                        prefix = prefix_info['Prefix']\n",
    "                        # Check if this subdirectory is image_atlas_alignments\n",
    "                        if prefix.endswith(f'image_atlas_alignment{delimiter}'):\n",
    "                            atlas_prefixes.append(prefix)\n",
    "\n",
    "    except ClientError as e:\n",
    "        print(f\"Error accessing S3 bucket: {e}\")\n",
    "        return []\n",
    "\n",
    "    return sorted(atlas_prefixes)\n",
    "\n",
    "\n",
    "def check_single_prefix(args):\n",
    "    \"\"\"\n",
    "    Helper function to check a single prefix for a file\n",
    "    Designed to be used with ThreadPoolExecutor\n",
    "    \"\"\"\n",
    "    bucket_name, prefix, filename, aws_profile = args\n",
    "\n",
    "    # Initialize S3 client for this thread\n",
    "    if aws_profile:\n",
    "        session = boto3.Session(profile_name=aws_profile)\n",
    "        s3_client = session.client('s3')\n",
    "    else:\n",
    "        s3_client = boto3.client('s3')\n",
    "\n",
    "    try:\n",
    "        # Search for the file anywhere under this prefix\n",
    "        paginator = s3_client.get_paginator('list_objects_v2')\n",
    "        page_iterator = paginator.paginate(\n",
    "            Bucket=bucket_name,\n",
    "            Prefix=prefix\n",
    "        )\n",
    "\n",
    "        file_locations = []\n",
    "\n",
    "        for page in page_iterator:\n",
    "            if 'Contents' in page:\n",
    "                for obj in page['Contents']:\n",
    "                    key = obj['Key']\n",
    "                    # Check if this object ends with our target filename\n",
    "                    if key.endswith(filename):\n",
    "                        file_locations.append(key)\n",
    "\n",
    "        return prefix, file_locations\n",
    "\n",
    "    except Exception as e:\n",
    "        return prefix, f\"Error: {e}\"\n",
    "\n",
    "def check_file_in_prefixes(bucket_name, prefixes, filename, aws_profile=None, max_workers=20):\n",
    "    \"\"\"\n",
    "    Check which prefixes contain a specific file anywhere under the prefix\n",
    "    Uses concurrent processing for much faster execution\n",
    "\n",
    "    Args:\n",
    "        bucket_name (str): Name of the S3 bucket\n",
    "        prefixes (list): List of S3 prefixes to check\n",
    "        filename (str): Name of the file to look for\n",
    "        aws_profile (str, optional): AWS profile name to use\n",
    "        max_workers (int): Maximum number of concurrent threads (default: 20)\n",
    "\n",
    "    Returns:\n",
    "        list: List of prefixes that contain the specified file anywhere under them\n",
    "    \"\"\"\n",
    "\n",
    "    prefixes_with_file = []\n",
    "    print(f\"Checking {len(prefixes)} prefixes using {max_workers} concurrent workers...\")\n",
    "\n",
    "    # Prepare arguments for each prefix check\n",
    "    check_args = [(bucket_name, prefix, filename, aws_profile) for prefix in prefixes]\n",
    "\n",
    "    # Use tqdm progress bar with known total\n",
    "    with tqdm(total=len(prefixes), desc=\"Checking prefixes\", unit=\"prefix\") as pbar:\n",
    "        with ThreadPoolExecutor(max_workers=max_workers) as executor:\n",
    "            # Submit all tasks\n",
    "            future_to_prefix = {executor.submit(check_single_prefix, args): args[1]\n",
    "                               for args in check_args}\n",
    "\n",
    "            for future in as_completed(future_to_prefix):\n",
    "                prefix, result = future.result()\n",
    "\n",
    "                if isinstance(result, list) and result:  # Found files\n",
    "                    prefixes_with_file.append(prefix)\n",
    "                elif isinstance(result, list):  # No files found\n",
    "                    pass\n",
    "                else:  # Error occurred\n",
    "                    tqdm.write(f\"❌ Error in {prefix}: {result}\")\n",
    "\n",
    "                pbar.update(1)\n",
    "\n",
    "    return prefixes_with_file\n"
   ],
   "id": "67477b35444d602",
   "outputs": [],
   "execution_count": 13
  },
  {
   "metadata": {
    "ExecuteTime": {
     "end_time": "2025-09-23T14:20:13.258824Z",
     "start_time": "2025-09-23T14:20:08.161639Z"
    }
   },
   "cell_type": "code",
   "source": "all_experiments = list_smartspim_stitched_prefixes(bucket_name='aind-open-data', aws_profile='533267145346_ProductionRW')",
   "id": "2532ea7b602c20a0",
   "outputs": [],
   "execution_count": 4
  },
  {
   "metadata": {
    "ExecuteTime": {
     "end_time": "2025-09-23T14:25:29.096170Z",
     "start_time": "2025-09-23T14:20:13.292031Z"
    }
   },
   "cell_type": "code",
   "source": "experiments = list_smartspim_atlas_alignments_prefixes(bucket_name='aind-open-data', aws_profile='533267145346_ProductionRW')",
   "id": "1a76401f093eb083",
   "outputs": [
    {
     "name": "stderr",
     "output_type": "stream",
     "text": [
      "100%|██████████| 3022/3022 [05:11<00:00,  9.71it/s]\n"
     ]
    }
   ],
   "execution_count": 5
  },
  {
   "metadata": {
    "ExecuteTime": {
     "end_time": "2025-09-23T15:59:40.270056Z",
     "start_time": "2025-09-23T15:05:56.998521Z"
    }
   },
   "cell_type": "code",
   "source": "experiments_w_ls_inverse = check_file_in_prefixes(bucket_name='aind-open-data', aws_profile='533267145346_ProductionRW', filename='ls_to_template_SyN_1InverseWarp.nii.gz', prefixes=experiments)",
   "id": "a20d171f084d9996",
   "outputs": [
    {
     "name": "stdout",
     "output_type": "stream",
     "text": [
      "Checking 2552 prefixes using 20 concurrent workers...\n"
     ]
    },
    {
     "name": "stderr",
     "output_type": "stream",
     "text": [
      "Checking prefixes: 100%|██████████| 2552/2552 [53:43<00:00,  1.26s/prefix]  \n"
     ]
    }
   ],
   "execution_count": 14
  },
  {
   "metadata": {
    "ExecuteTime": {
     "end_time": "2025-09-23T16:09:31.020487Z",
     "start_time": "2025-09-23T16:09:31.013296Z"
    }
   },
   "cell_type": "code",
   "source": "len(set([x.split('_')[1] for x in experiments_w_ls_inverse])) / len(set([x.split('_')[1] for x in all_experiments]))",
   "id": "43189210831d5499",
   "outputs": [
    {
     "data": {
      "text/plain": [
       "0.6231536926147705"
      ]
     },
     "execution_count": 26,
     "metadata": {},
     "output_type": "execute_result"
    }
   ],
   "execution_count": 26
  },
  {
   "metadata": {
    "ExecuteTime": {
     "end_time": "2025-09-23T16:09:26.472148Z",
     "start_time": "2025-09-23T16:09:26.468498Z"
    }
   },
   "cell_type": "code",
   "source": "'000393' in set([x.split('_')[1] for x in all_experiments])",
   "id": "a433afe0062e9682",
   "outputs": [
    {
     "data": {
      "text/plain": [
       "True"
      ]
     },
     "execution_count": 25,
     "metadata": {},
     "output_type": "execute_result"
    }
   ],
   "execution_count": 25
  },
  {
   "metadata": {
    "ExecuteTime": {
     "end_time": "2025-09-23T16:03:38.121089Z",
     "start_time": "2025-09-23T16:03:38.114996Z"
    }
   },
   "cell_type": "code",
   "source": [
    "import json\n",
    "with open('/Users/adam.amster/smartspim-registration/prefixes_with_inverse_warp.json', 'w') as f:\n",
    "    f.write(json.dumps(experiments_w_ls_inverse, indent=2))"
   ],
   "id": "fc289ea15911f4d1",
   "outputs": [],
   "execution_count": 20
  },
  {
   "metadata": {
    "ExecuteTime": {
     "end_time": "2025-09-26T16:43:13.752637Z",
     "start_time": "2025-09-26T16:43:13.730487Z"
    }
   },
   "cell_type": "code",
   "source": [
    "import json\n",
    "import pandas as pd\n",
    "\n",
    "with open('/Users/adam.amster/smartspim-registration/prefixes_with_inverse_warp.json') as f:\n",
    "    experiments_w_ls_inverse = json.load(f)\n",
    "\n",
    "base_paths = [x.split('/')[0] for x in experiments_w_ls_inverse]\n",
    "experiments = pd.DataFrame({'base_path': base_paths})\n",
    "experiments['experiment_id'] = experiments['base_path'].str.split('_').apply(lambda x: x[1]).astype(str)\n",
    "experiments['stitched_datetime'] = experiments['base_path'].str.split('_').apply(lambda x: x[-2] + '_' + x[-1]).astype(str)\n",
    "experiments['stitched_datetime'] = pd.to_datetime(experiments['stitched_datetime'], format='%Y-%m-%d_%H-%M-%S')\n",
    "experiments = experiments.sort_values(by='stitched_datetime', ascending=True).drop_duplicates(subset='experiment_id')"
   ],
   "id": "dd3615388541289e",
   "outputs": [],
   "execution_count": 10
  },
  {
   "metadata": {
    "ExecuteTime": {
     "end_time": "2025-09-26T16:43:15.329024Z",
     "start_time": "2025-09-26T16:43:15.321447Z"
    }
   },
   "cell_type": "code",
   "source": [
    "def get_alignment_artifacts(experiments: pd.DataFrame):\n",
    "    session = boto3.Session(profile_name='533267145346_ProductionRW', region_name='us-west-2')\n",
    "    s3 = session.client('s3')\n",
    "\n",
    "    registration_artifacts_prefixes = []\n",
    "    errors = []\n",
    "\n",
    "    for row in tqdm(experiments.itertuples(), total=experiments.shape[0]):\n",
    "        base_path = row.base_path\n",
    "        # remove the stitched part to get prefix\n",
    "        base_path = '_'.join(base_path.split('_')[:-3])\n",
    "\n",
    "        # get processing manifest\n",
    "        try:\n",
    "            s3.head_object(\n",
    "                Bucket='aind-open-data',\n",
    "                Key=f'{base_path}/SPIM/derivatives/processing_manifest.json',\n",
    "            )\n",
    "            processing_manifest_path = f'{base_path}/SPIM/derivatives/processing_manifest.json'\n",
    "        except ClientError:\n",
    "            try:\n",
    "                s3.head_object(\n",
    "                    Bucket='aind-open-data',\n",
    "                    Key=f'{base_path}/derivatives/processing_manifest.json',\n",
    "                )\n",
    "                processing_manifest_path = f'{base_path}/derivatives/processing_manifest.json'\n",
    "            except ClientError:\n",
    "                raise RuntimeError(f'could not find processing_manifest for {base_path}')\n",
    "        obj = s3.get_object(Bucket='aind-open-data', Key=processing_manifest_path)\n",
    "        processing_manifest = json.loads(obj['Body'].read())\n",
    "\n",
    "        registration_channels = processing_manifest['pipeline_processing']['registration']['channels']\n",
    "\n",
    "        if len(registration_channels) == 1:\n",
    "            registration_channels = registration_channels[0]\n",
    "        elif len(registration_channels) == 0:\n",
    "            raise ValueError(f'expected 1 channel {base_path}')\n",
    "        elif len(registration_channels) > 1:\n",
    "            has_alignment_artifacts = []\n",
    "            for channel in registration_channels:\n",
    "                # check which channel has registration artifacts\n",
    "                try:\n",
    "                    s3.head_object(\n",
    "                        Bucket='aind-open-data',\n",
    "                        Key=f'{row.base_path}/image_atlas_alignment/{channel}'\n",
    "                    )\n",
    "                    has_alignment_artifacts.append(True)\n",
    "                except ClientError:\n",
    "                    pass\n",
    "            if sum(has_alignment_artifacts) != 1:\n",
    "                errors.append(row.base_path)\n",
    "                print(f'expected 1 channel to have alignment but found {sum(has_alignment_artifacts)}')\n",
    "                registration_artifacts_prefixes.append(None)\n",
    "                continue\n",
    "\n",
    "            registration_channels = registration_channels[has_alignment_artifacts.index(True)]\n",
    "\n",
    "        registration_artifacts_prefix = f'{row.base_path}/image_atlas_alignment/{registration_channels}'\n",
    "\n",
    "        # check that it exists\n",
    "        try:\n",
    "            s3.head_object(Bucket='aind-open-data', Key=f'{registration_artifacts_prefix}/ls_to_template_SyN_1InverseWarp.nii.gz')\n",
    "            s3.head_object(Bucket='aind-open-data', Key=f'{registration_artifacts_prefix}/ls_to_template_rigid_0GenericAffine.mat')\n",
    "        except ClientError:\n",
    "            errors.append(base_path)\n",
    "            print(f'Could not find registration artifacts {registration_artifacts_prefix}')\n",
    "            registration_artifacts_prefix = None\n",
    "        registration_artifacts_prefixes.append(registration_artifacts_prefix)\n",
    "    return registration_artifacts_prefixes, errors"
   ],
   "id": "300c01e3375f1fcc",
   "outputs": [],
   "execution_count": 11
  },
  {
   "metadata": {
    "ExecuteTime": {
     "end_time": "2025-09-26T16:54:51.831277Z",
     "start_time": "2025-09-26T16:43:18.045185Z"
    }
   },
   "cell_type": "code",
   "source": "image_atlas_alignment_paths, errors = get_alignment_artifacts(experiments=experiments)",
   "id": "dbf5b6a3086e7778",
   "outputs": [
    {
     "name": "stderr",
     "output_type": "stream",
     "text": [
      " 11%|█         | 170/1561 [01:25<11:03,  2.10it/s]"
     ]
    },
    {
     "name": "stdout",
     "output_type": "stream",
     "text": [
      "Could not find registration artifacts SmartSPIM_719360_2024-06-28_14-08-20_stitched_2024-07-10_01-02-48/image_atlas_alignment/Ex_639_Em_667\n"
     ]
    },
    {
     "name": "stderr",
     "output_type": "stream",
     "text": [
      " 25%|██▍       | 389/1561 [03:15<09:41,  2.02it/s]"
     ]
    },
    {
     "name": "stdout",
     "output_type": "stream",
     "text": [
      "expected 1 channel to have alignment but found 0\n"
     ]
    },
    {
     "name": "stderr",
     "output_type": "stream",
     "text": [
      "100%|██████████| 1561/1561 [11:33<00:00,  2.25it/s]\n"
     ]
    }
   ],
   "execution_count": 12
  },
  {
   "metadata": {
    "ExecuteTime": {
     "end_time": "2025-09-26T16:54:52.958618Z",
     "start_time": "2025-09-26T16:54:52.954071Z"
    }
   },
   "cell_type": "code",
   "source": [
    "experiments['image_atlas_alignment_path'] = image_atlas_alignment_paths\n",
    "experiments = experiments[~experiments['image_atlas_alignment_path'].isnull()]"
   ],
   "id": "e59f7bf782a08b25",
   "outputs": [],
   "execution_count": 13
  },
  {
   "metadata": {
    "ExecuteTime": {
     "end_time": "2025-09-26T16:54:55.250882Z",
     "start_time": "2025-09-26T16:54:55.246134Z"
    }
   },
   "cell_type": "code",
   "source": [
    "experiments = experiments.rename(columns={'base_path': 'stitched_path'})\n",
    "#experiments['stitched_path'] = experiments['stitched_path'].apply(lambda x: f'/data/{x}')\n",
    "#experiments['image_atlas_alignment_path'] = experiments['image_atlas_alignment_path'].apply(lambda x: f'/data/{x}')"
   ],
   "id": "ccaec00d5b97cdd2",
   "outputs": [],
   "execution_count": 14
  },
  {
   "metadata": {
    "ExecuteTime": {
     "end_time": "2025-09-25T22:45:52.450035Z",
     "start_time": "2025-09-25T22:45:52.444795Z"
    }
   },
   "cell_type": "code",
   "source": [
    "def get_processing_manifest(s3, base_path):\n",
    "    # get processing manifest\n",
    "    try:\n",
    "        s3.head_object(\n",
    "            Bucket='aind-open-data',\n",
    "            Key=f'{base_path}/SPIM/derivatives/processing_manifest.json',\n",
    "        )\n",
    "        processing_manifest_path = f'{base_path}/SPIM/derivatives/processing_manifest.json'\n",
    "    except ClientError:\n",
    "        try:\n",
    "            s3.head_object(\n",
    "                Bucket='aind-open-data',\n",
    "                Key=f'{base_path}/derivatives/processing_manifest.json',\n",
    "            )\n",
    "            processing_manifest_path = f'{base_path}/derivatives/processing_manifest.json'\n",
    "        except ClientError:\n",
    "            raise RuntimeError(f'could not find processing_manifest for {base_path}')\n",
    "    return processing_manifest_path"
   ],
   "id": "1e83ea788252ccad",
   "outputs": [],
   "execution_count": 17
  },
  {
   "metadata": {
    "ExecuteTime": {
     "end_time": "2025-09-26T16:55:02.545045Z",
     "start_time": "2025-09-26T16:55:01.372606Z"
    }
   },
   "cell_type": "code",
   "source": [
    "from zarr.errors import GroupNotFoundError\n",
    "from pathlib import Path\n",
    "import zarr\n",
    "import boto3\n",
    "\n",
    "def get_volume_shapes(experiments: pd.DataFrame):\n",
    "    shapes = []\n",
    "    volume_paths = []\n",
    "    registration_downsamples = []\n",
    "    errors = []\n",
    "    alignment_resolutions = []\n",
    "\n",
    "    s3_client = boto3.client('s3')\n",
    "\n",
    "    for row in tqdm(experiments.itertuples(), total=experiments.shape[0]):\n",
    "        stitched_path = row.stitched_path\n",
    "        registration_channel = Path(row.image_atlas_alignment_path).name\n",
    "\n",
    "        # get image_atlas_alignment processing.json\n",
    "        registration_processing_path = Path(row.image_atlas_alignment_path) / 'metadata' / 'processing.json'\n",
    "        response = s3_client.get_object(Bucket='aind-open-data', Key=str(registration_processing_path))\n",
    "        registration_processing = json.loads(response['Body'].read())\n",
    "\n",
    "        alignment_step = [x for x in registration_processing['processing_pipeline']['data_processes'] if x['name'] == 'Image atlas alignment'][0]\n",
    "        aligment_spacing = alignment_step['parameters']['spacing']\n",
    "        if alignment_step['parameters']['unit'] == 'millimetre':\n",
    "            aligment_spacing = [x * 1e3 for x in aligment_spacing]\n",
    "        else:\n",
    "            raise ValueError(f'unexpected unit {alignment_step['parameters'][\"unit\"]}')\n",
    "        alignment_downsample_factor = int(Path(alignment_step['input_location']).name)\n",
    "\n",
    "        volume_path = Path(stitched_path) / 'image_tile_fusing' / 'OMEZarr' / f'{registration_channel}.zarr'\n",
    "\n",
    "        try:\n",
    "            volume = zarr.open(f's3://aind-open-data/{volume_path}', storage_options={'anon': True}, mode='r')\n",
    "        except GroupNotFoundError:\n",
    "            errors.append(volume_path)\n",
    "            print(f'cannot load zarr group {volume_path}')\n",
    "            shapes.append(None)\n",
    "            volume_paths.append(None)\n",
    "            registration_downsamples.append(None)\n",
    "            alignment_resolutions.append(None)\n",
    "            continue\n",
    "        shapes.append(volume[str(alignment_downsample_factor)].shape[2:])\n",
    "        volume_paths.append(volume_path)\n",
    "        registration_downsamples.append(alignment_downsample_factor)\n",
    "        alignment_resolutions.append(aligment_spacing)\n",
    "    return shapes, volume_paths, registration_downsamples, alignment_resolutions"
   ],
   "id": "9d47a1c8ba7772fb",
   "outputs": [],
   "execution_count": 15
  },
  {
   "metadata": {
    "ExecuteTime": {
     "end_time": "2025-09-26T17:08:07.526660Z",
     "start_time": "2025-09-26T16:55:07.747237Z"
    }
   },
   "cell_type": "code",
   "source": "shapes, volume_paths, registration_downsamples, registration_resolutions = get_volume_shapes(experiments=experiments)",
   "id": "e85306ffd8548dc9",
   "outputs": [
    {
     "name": "stderr",
     "output_type": "stream",
     "text": [
      "  0%|          | 5/1559 [00:04<15:23,  1.68it/s]  "
     ]
    },
    {
     "name": "stdout",
     "output_type": "stream",
     "text": [
      "cannot load zarr group SmartSPIM_AK031_2023-07-11_16-27-40_stitched_2023-07-29_03-22-11/image_tile_fusing/OMEZarr/Ex_639_Em_660.zarr\n"
     ]
    },
    {
     "name": "stderr",
     "output_type": "stream",
     "text": [
      "  2%|▏         | 28/1559 [00:15<10:47,  2.36it/s]"
     ]
    },
    {
     "name": "stdout",
     "output_type": "stream",
     "text": [
      "cannot load zarr group SmartSPIM_AK030_2023-07-10_23-22-02_stitched_2023-09-27_01-28-29/image_tile_fusing/OMEZarr/Ex_639_Em_660.zarr\n"
     ]
    },
    {
     "name": "stderr",
     "output_type": "stream",
     "text": [
      "  3%|▎         | 54/1559 [00:27<10:24,  2.41it/s]"
     ]
    },
    {
     "name": "stdout",
     "output_type": "stream",
     "text": [
      "cannot load zarr group SmartSPIM_AK029_2023-11-01_12-32-06_stitched_2023-11-22_03-30-32/image_tile_fusing/OMEZarr/Ex_639_Em_667.zarr\n"
     ]
    },
    {
     "name": "stderr",
     "output_type": "stream",
     "text": [
      "  4%|▎         | 55/1559 [00:28<09:26,  2.65it/s]"
     ]
    },
    {
     "name": "stdout",
     "output_type": "stream",
     "text": [
      "cannot load zarr group SmartSPIM_692913_2023-10-23_21-38-08_stitched_2023-11-22_03-42-37/image_tile_fusing/OMEZarr/Ex_639_Em_667.zarr\n"
     ]
    },
    {
     "name": "stderr",
     "output_type": "stream",
     "text": [
      " 47%|████▋     | 726/1559 [06:00<06:25,  2.16it/s]"
     ]
    },
    {
     "name": "stdout",
     "output_type": "stream",
     "text": [
      "cannot load zarr group SmartSPIM_660851_2023-04-03_16-25-48_stitched_2025-01-17_00-58-31/image_tile_fusing/OMEZarr/Ex_639_Em_667.zarr\n"
     ]
    },
    {
     "name": "stderr",
     "output_type": "stream",
     "text": [
      " 67%|██████▋   | 1046/1559 [08:41<04:21,  1.96it/s]/Users/adam.amster/PycharmProjects/deep_ccf_registration/.venv/lib/python3.12/site-packages/zarr/core/metadata/v2.py:190: ZarrUserWarning: Found an empty list of filters in the array metadata document. This is contrary to the Zarr V2 specification, and will cause an error in the future. Use None (or Null in a JSON document) instead of an empty list of filters.\n",
      "  warnings.warn(msg, ZarrUserWarning, stacklevel=1)\n",
      "100%|██████████| 1559/1559 [12:59<00:00,  2.00it/s]\n"
     ]
    }
   ],
   "execution_count": 16
  },
  {
   "metadata": {},
   "cell_type": "code",
   "source": [
    "experiments['registration_shape'] = shapes\n",
    "experiments['volume_path'] = volume_paths\n",
    "experiments['registration_downsample'] = registration_downsamples\n",
    "experiments['registration_resolution'] = registration_resolutions\n",
    "\n",
    "experiments = experiments[~experiments['volume_path'].isnull()]"
   ],
   "id": "41f8a58c2c3c97e0",
   "outputs": [],
   "execution_count": null
  },
  {
   "metadata": {
    "ExecuteTime": {
     "end_time": "2025-09-26T14:53:26.649212Z",
     "start_time": "2025-09-26T14:53:26.642627Z"
    }
   },
   "cell_type": "code",
   "source": "pd.Series(registration_downsamples).unique()",
   "id": "85d24ba78a2b7d41",
   "outputs": [
    {
     "data": {
      "text/plain": [
       "array([ 3., nan])"
      ]
     },
     "execution_count": 20,
     "metadata": {},
     "output_type": "execute_result"
    }
   ],
   "execution_count": 20
  },
  {
   "metadata": {
    "ExecuteTime": {
     "end_time": "2025-09-26T14:55:45.138169Z",
     "start_time": "2025-09-26T14:55:45.135606Z"
    }
   },
   "cell_type": "code",
   "source": "experiments['registration_resolution'].apply(lambda x: tuple(x)).unique()",
   "id": "ce288a92138c4fb5",
   "outputs": [
    {
     "data": {
      "text/plain": [
       "array([(14.4, 14.4, 16.0), (16.0, 14.4, 14.4)], dtype=object)"
      ]
     },
     "execution_count": 26,
     "metadata": {},
     "output_type": "execute_result"
    }
   ],
   "execution_count": 26
  },
  {
   "metadata": {
    "ExecuteTime": {
     "end_time": "2025-09-25T21:39:01.163205Z",
     "start_time": "2025-09-25T21:39:01.155795Z"
    }
   },
   "cell_type": "code",
   "source": "experiments['shape'].unique()",
   "id": "dad7f506fbf10797",
   "outputs": [
    {
     "data": {
      "text/plain": [
       "array([(480, 1279, 927), (502, 1280, 930), (482, 1279, 928),\n",
       "       (454, 1100, 927), (467, 1281, 928), (502, 1278, 929),\n",
       "       (573, 1101, 927), (471, 1281, 929), (501, 1281, 927),\n",
       "       (468, 1279, 928), (513, 1278, 927), (564, 1279, 928),\n",
       "       (508, 1279, 928), (538, 1280, 928), (538, 1282, 930),\n",
       "       (497, 1280, 929), (593, 1280, 929), (514, 1099, 928),\n",
       "       (463, 1279, 928), (486, 1279, 928), (564, 1100, 928),\n",
       "       (496, 1280, 929), (518, 1280, 929), (540, 1279, 929),\n",
       "       (527, 1282, 929), (617, 1282, 930), (475, 1279, 929),\n",
       "       (546, 1280, 930), (463, 1282, 929), (440, 1281, 928),\n",
       "       (517, 1282, 930), (539, 1281, 928), (443, 1282, 929),\n",
       "       (446, 1282, 929), (509, 1282, 930), (472, 1282, 930),\n",
       "       (516, 1280, 931), (536, 1281, 929), (495, 1282, 930),\n",
       "       (534, 1281, 930), (426, 1108, 934), (450, 1108, 933),\n",
       "       (478, 1108, 934), (491, 1284, 928), (499, 1282, 929),\n",
       "       (516, 1108, 933), (461, 1108, 933), (466, 1101, 927),\n",
       "       (403, 1100, 927), (491, 1279, 928), (559, 1281, 928),\n",
       "       (517, 1280, 930), (489, 1281, 930), (492, 1284, 929),\n",
       "       (449, 1100, 927), (514, 1279, 927), (481, 1100, 927),\n",
       "       (490, 1281, 928), (458, 1282, 929), (480, 1281, 929),\n",
       "       (530, 1282, 929), (560, 1280, 927), (455, 1108, 934),\n",
       "       (483, 1108, 934), (464, 1109, 934), (456, 1108, 933),\n",
       "       (433, 1109, 934), (489, 1108, 933), (718, 1100, 478),\n",
       "       (511, 1290, 933), (685, 1100, 702), (450, 1101, 930),\n",
       "       (475, 1103, 929), (527, 1102, 929), (458, 1103, 929),\n",
       "       (1341, 1101, 476), (1341, 1103, 482), (479, 1102, 928),\n",
       "       (677, 1100, 477), (460, 1101, 929), (672, 1100, 477),\n",
       "       (668, 1100, 478), (668, 1280, 701), (668, 1100, 477),\n",
       "       (650, 1100, 477), (682, 1099, 477), (667, 1107, 482),\n",
       "       (466, 1095, 928), (474, 1101, 928), (679, 1107, 479),\n",
       "       (695, 1099, 477), (642, 1099, 479), (657, 1100, 477),\n",
       "       (682, 1100, 477), (465, 1283, 930), (668, 1099, 478),\n",
       "       (642, 1099, 478), (452, 1101, 931), (647, 1289, 480),\n",
       "       (672, 1289, 480), (695, 1279, 478), (709, 1280, 478),\n",
       "       (660, 1108, 707), (652, 1289, 706), (697, 1279, 478),\n",
       "       (694, 1100, 702), (693, 1279, 703), (672, 1279, 702),\n",
       "       (692, 1284, 705), (687, 1280, 703), (692, 1279, 704),\n",
       "       (650, 1280, 703), (690, 1099, 703), (677, 1100, 702),\n",
       "       (678, 1099, 703), (674, 1107, 707), (691, 1100, 703),\n",
       "       (676, 1109, 707), (670, 1108, 707), (692, 1280, 703),\n",
       "       (703, 1279, 703), (668, 1106, 707), (667, 1099, 702),\n",
       "       (670, 1100, 702), (674, 1099, 702), (677, 1106, 706),\n",
       "       (690, 1280, 703), (639, 1108, 479), (685, 1100, 703),\n",
       "       (680, 1280, 703), (527, 1104, 929), (510, 1283, 930),\n",
       "       (679, 1100, 702), (667, 1100, 702), (667, 1098, 701),\n",
       "       (717, 1099, 701), (679, 1099, 701), (467, 1282, 931),\n",
       "       (666, 1109, 707), (661, 1100, 702), (686, 1100, 702),\n",
       "       (644, 1279, 700), (660, 1291, 709), (640, 1290, 707),\n",
       "       (642, 1279, 703), (688, 1279, 702), (709, 1289, 709),\n",
       "       (696, 1279, 703), (453, 1283, 930), (658, 1100, 477),\n",
       "       (672, 1120, 480), (704, 1120, 480), (704, 1312, 480),\n",
       "       (669, 1107, 479), (445, 1283, 929), (580, 1286, 930),\n",
       "       (667, 1108, 480), (653, 1108, 479), (654, 1108, 479),\n",
       "       (684, 1108, 707), (379, 1094, 708), (655, 1108, 480),\n",
       "       (493, 1281, 929), (381, 1100, 701), (467, 1104, 929),\n",
       "       (432, 1283, 930), (410, 1288, 933), (493, 1104, 929),\n",
       "       (461, 1282, 929), (469, 1283, 932), (520, 1104, 928),\n",
       "       (518, 1103, 929), (498, 1283, 929), (475, 1283, 930),\n",
       "       (461, 1287, 931), (463, 1289, 933), (441, 1281, 926),\n",
       "       (442, 1281, 928), (476, 1289, 932), (449, 1279, 929),\n",
       "       (507, 1290, 934), (478, 1284, 930), (502, 1284, 930),\n",
       "       (418, 1100, 928), (448, 1285, 928), (474, 1281, 932),\n",
       "       (446, 1281, 931), (457, 1284, 929), (656, 1099, 477),\n",
       "       (670, 1100, 477), (678, 1100, 477), (659, 1100, 702),\n",
       "       (482, 1283, 929), (468, 1283, 930), (404, 1099, 926),\n",
       "       (375, 1103, 926), (474, 1285, 931), (637, 1108, 479),\n",
       "       (663, 1100, 477), (665, 1108, 479), (680, 1100, 477),\n",
       "       (677, 1106, 479), (504, 1283, 929), (452, 1283, 931),\n",
       "       (665, 1099, 477), (682, 1280, 703), (671, 1099, 477),\n",
       "       (682, 1108, 479), (675, 1107, 480), (670, 1280, 477),\n",
       "       (500, 1280, 926), (657, 1106, 707), (686, 1109, 706),\n",
       "       (445, 1284, 929), (448, 1283, 930), (476, 1281, 927),\n",
       "       (493, 1283, 930), (677, 1107, 480), (670, 1108, 479),\n",
       "       (688, 1104, 479), (692, 1109, 480), (678, 1108, 479),\n",
       "       (700, 1099, 477), (673, 1099, 702), (673, 1100, 702),\n",
       "       (689, 1100, 703), (507, 1281, 926), (561, 1284, 931),\n",
       "       (422, 1101, 927), (480, 1280, 928), (455, 1283, 930),\n",
       "       (459, 1276, 928), (443, 1284, 928), (466, 1284, 928),\n",
       "       (447, 1283, 927), (519, 1284, 930), (457, 1275, 931),\n",
       "       (502, 1282, 929), (459, 1284, 930), (494, 1290, 933),\n",
       "       (494, 1289, 935), (463, 1280, 928), (486, 1283, 930),\n",
       "       (437, 1287, 931), (481, 1290, 934), (479, 1289, 934),\n",
       "       (488, 1283, 929), (503, 1279, 928), (467, 1284, 931),\n",
       "       (458, 1289, 933), (492, 1287, 934), (480, 1288, 935),\n",
       "       (523, 1290, 934), (452, 1290, 933), (432, 1282, 929),\n",
       "       (474, 1283, 930), (487, 1283, 931), (697, 1101, 477),\n",
       "       (428, 1108, 934), (702, 1100, 477), (482, 1108, 934),\n",
       "       (469, 1109, 934), (621, 2379, 938), (443, 1290, 934),\n",
       "       (489, 1107, 933), (652, 2925, 939), (439, 1283, 931),\n",
       "       (489, 1284, 930), (525, 1284, 929), (615, 2179, 927),\n",
       "       (666, 1100, 702), (671, 1101, 702), (452, 1283, 928),\n",
       "       (444, 1283, 927), (457, 1282, 929), (675, 2379, 1168),\n",
       "       (681, 1100, 477), (466, 1099, 929), (435, 1282, 932),\n",
       "       (353, 1099, 929), (668, 1100, 703), (693, 1108, 707),\n",
       "       (418, 1290, 933), (449, 1282, 929), (446, 1102, 929),\n",
       "       (685, 1108, 706), (441, 1286, 928), (373, 1102, 928),\n",
       "       (487, 1280, 928), (447, 1289, 934), (484, 1289, 927),\n",
       "       (485, 1283, 930), (529, 1280, 928), (433, 1100, 928),\n",
       "       (440, 1282, 929), (461, 1280, 929), (488, 1282, 931),\n",
       "       (482, 1281, 929), (471, 1283, 930), (489, 1283, 929),\n",
       "       (680, 1109, 479), (680, 1108, 479), (684, 1099, 478),\n",
       "       (676, 1100, 702), (467, 1289, 934), (467, 1109, 934),\n",
       "       (659, 1099, 476), (701, 1109, 480), (417, 1285, 927),\n",
       "       (262, 741, 478), (472, 1289, 934), (486, 1282, 926),\n",
       "       (466, 1283, 931), (438, 1282, 929), (448, 1282, 930),\n",
       "       (424, 1283, 929), (664, 1108, 479), (351, 1102, 930),\n",
       "       (348, 1100, 929), (347, 1101, 931), (384, 1104, 933),\n",
       "       (669, 2362, 1155), (681, 1108, 479), (660, 1100, 478),\n",
       "       (679, 1100, 477), (688, 1107, 480), (450, 1289, 934),\n",
       "       (463, 1289, 934), (387, 1284, 927), (435, 1289, 934),\n",
       "       (475, 1284, 924), (483, 1103, 930), (420, 1102, 929),\n",
       "       (468, 1280, 927), (466, 1281, 930), (678, 1100, 476),\n",
       "       (683, 1107, 481), (473, 1103, 929), (463, 1283, 928),\n",
       "       (682, 1107, 480), (670, 1110, 479), (718, 1100, 477),\n",
       "       (443, 1283, 929), (424, 1290, 934), (432, 1101, 930),\n",
       "       (586, 1824, 1158), (448, 1103, 927), (456, 1280, 927),\n",
       "       (453, 1101, 927), (435, 1282, 928), (464, 1284, 930),\n",
       "       (489, 1289, 934), (627, 2187, 1159), (443, 1102, 930),\n",
       "       (434, 1284, 929), (493, 1280, 927), (491, 1280, 928),\n",
       "       (457, 1283, 928), (530, 1287, 935), (478, 1290, 935),\n",
       "       (511, 1283, 929), (462, 1280, 927), (494, 1291, 933),\n",
       "       (490, 1283, 930), (426, 1103, 929), (688, 1108, 480),\n",
       "       (511, 1280, 927), (436, 1284, 929), (458, 1283, 929),\n",
       "       (483, 1281, 931), (657, 1100, 478), (519, 1101, 930),\n",
       "       (594, 1287, 930), (413, 1100, 927), (428, 1280, 928),\n",
       "       (696, 1100, 477), (409, 1281, 929), (465, 1289, 933),\n",
       "       (424, 1282, 928), (416, 1285, 929), (495, 1281, 930),\n",
       "       (356, 1102, 929), (383, 921, 928), (402, 1103, 928),\n",
       "       (375, 1102, 931), (449, 1281, 928), (674, 1108, 479),\n",
       "       (475, 1292, 930), (396, 1100, 927), (460, 1280, 929),\n",
       "       (511, 1285, 930), (456, 1282, 931), (467, 1282, 929),\n",
       "       (400, 1284, 927), (680, 1279, 702), (400, 1288, 927),\n",
       "       (723, 1280, 703), (728, 1280, 703), (482, 1283, 931),\n",
       "       (417, 1283, 929), (371, 1102, 932), (368, 1101, 930),\n",
       "       (462, 1284, 930), (449, 1283, 930), (392, 1101, 930),\n",
       "       (497, 1283, 930), (441, 1281, 927), (476, 1282, 928),\n",
       "       (420, 1281, 925), (479, 1281, 930), (358, 1101, 930),\n",
       "       (377, 1102, 930), (439, 1282, 929), (489, 1283, 931),\n",
       "       (540, 1284, 931), (370, 560, 476), (399, 1100, 928),\n",
       "       (161, 560, 476), (443, 1281, 929), (747, 1100, 477),\n",
       "       (471, 1282, 928), (717, 1280, 478), (683, 1107, 479),\n",
       "       (680, 1100, 476), (688, 1100, 477), (697, 1290, 480),\n",
       "       (465, 1282, 929), (447, 1282, 930), (473, 1283, 931),\n",
       "       (456, 1277, 931), (701, 1109, 479), (699, 1100, 477),\n",
       "       (669, 1100, 477), (680, 1108, 480), (706, 1100, 477),\n",
       "       (712, 1281, 702), (681, 1109, 706), (675, 1100, 702),\n",
       "       (667, 1100, 477), (677, 1108, 480), (689, 1100, 477),\n",
       "       (687, 1109, 707), (712, 1099, 478), (680, 1100, 702),\n",
       "       (717, 1100, 703), (696, 1108, 479), (415, 1101, 928),\n",
       "       (261, 559, 475), (460, 1284, 930), (663, 1107, 479),\n",
       "       (647, 2006, 935), (688, 1108, 707), (646, 2009, 935),\n",
       "       (554, 2546, 934), (517, 1282, 929), (434, 1285, 930),\n",
       "       (670, 1279, 703), (673, 1280, 703), (685, 1279, 703),\n",
       "       (676, 1100, 477), (726, 1099, 477), (688, 1100, 702),\n",
       "       (494, 1284, 929), (503, 1284, 928), (436, 1281, 928),\n",
       "       (436, 1282, 930), (467, 1280, 928), (462, 1280, 929),\n",
       "       (477, 1283, 930), (468, 1282, 930), (469, 1282, 930),\n",
       "       (555, 1283, 930), (682, 1100, 478), (708, 1100, 478),\n",
       "       (711, 1099, 477), (509, 1103, 930), (399, 1281, 929),\n",
       "       (459, 1282, 930), (466, 1283, 929), (469, 1283, 930),\n",
       "       (473, 1282, 930), (463, 1284, 930), (492, 1284, 927),\n",
       "       (596, 2006, 933), (643, 2021, 1163), (462, 1280, 930),\n",
       "       (518, 1281, 930), (473, 1284, 931), (499, 1283, 929),\n",
       "       (566, 1103, 928), (482, 1281, 931), (562, 741, 927),\n",
       "       (471, 1282, 930), (516, 1284, 929), (498, 1279, 928),\n",
       "       (503, 1281, 930), (483, 1284, 929), (531, 1284, 928),\n",
       "       (549, 1282, 930), (479, 1280, 929), (447, 1101, 928),\n",
       "       (515, 1282, 929), (519, 1281, 928), (487, 1281, 930),\n",
       "       (521, 1284, 930), (508, 1282, 929), (491, 1282, 930),\n",
       "       (533, 1284, 930), (464, 1285, 931), (653, 2367, 936),\n",
       "       (635, 2006, 935), (479, 1283, 929), (655, 2549, 936),\n",
       "       (358, 1102, 927), (564, 1284, 929), (473, 1283, 926),\n",
       "       (488, 1282, 929), (457, 1284, 930), (477, 1102, 929),\n",
       "       (486, 1284, 929), (470, 1282, 929), (496, 1281, 929),\n",
       "       (481, 1101, 929), (535, 1280, 929), (505, 1282, 929),\n",
       "       (486, 1278, 930), (483, 1284, 928), (496, 1280, 928),\n",
       "       (464, 1280, 928), (480, 1296, 944), (496, 1104, 928),\n",
       "       (496, 1296, 944), (560, 1296, 960), (704, 1104, 480),\n",
       "       (720, 1104, 704), (496, 1296, 928), (528, 1296, 928),\n",
       "       (608, 1120, 944), (480, 1120, 944), (192, 560, 480),\n",
       "       (416, 1104, 928), (368, 928, 928), (352, 1104, 928),\n",
       "       (384, 1104, 928), (368, 1104, 928), (608, 1280, 928),\n",
       "       (512, 1104, 944), (464, 1296, 944), (544, 1296, 944),\n",
       "       (368, 560, 480), (400, 1104, 928), (416, 1120, 944),\n",
       "       (736, 1104, 480), (464, 1296, 480), (512, 1296, 944),\n",
       "       (688, 1280, 704), (704, 1280, 704), (464, 1296, 928),\n",
       "       (528, 1296, 944), (672, 1104, 704), (576, 1296, 944),\n",
       "       (560, 1280, 928), (416, 1296, 944), (416, 1104, 944),\n",
       "       (432, 1104, 944), (464, 1120, 944), (448, 1280, 928),\n",
       "       (512, 1280, 928), (480, 1104, 928), (528, 1104, 960),\n",
       "       (480, 1104, 944), (528, 1104, 944), (768, 1104, 704),\n",
       "       (464, 1104, 928), (448, 1296, 944), (448, 1120, 944),\n",
       "       (512, 1104, 928), (320, 928, 928), (528, 1280, 928),\n",
       "       (672, 1280, 928), (352, 928, 928), (480, 1296, 928),\n",
       "       (496, 1120, 944), (400, 1104, 944), (368, 1104, 944),\n",
       "       (352, 560, 480), (416, 560, 480), (464, 1104, 944),\n",
       "       (544, 2720, 928), (512, 1120, 944), (672, 1280, 704),\n",
       "       (704, 1104, 704), (720, 1104, 480), (672, 1104, 480),\n",
       "       (688, 1104, 480), (544, 1104, 944), (544, 1280, 928),\n",
       "       (688, 1104, 704), (400, 560, 480), (528, 1104, 928),\n",
       "       (720, 1280, 704), (448, 1104, 928), (432, 1280, 928),\n",
       "       (720, 1280, 480), (560, 1104, 928), (432, 1104, 928),\n",
       "       (576, 1104, 928), (336, 1104, 928), (544, 1104, 928),\n",
       "       (688, 1280, 480), (704, 1280, 480), (656, 1104, 480),\n",
       "       (784, 1104, 704), (608, 1472, 1152), (624, 1280, 928),\n",
       "       (592, 1280, 928), (432, 928, 928), (592, 1104, 928),\n",
       "       (228, 1024, 930), (592, 1280, 1152), (432, 1296, 928),\n",
       "       (432, 1120, 944), (496, 1280, 944), (944, 1296, 944),\n",
       "       (659, 1109, 707), (448, 1104, 944), (496, 1104, 944),\n",
       "       (736, 1280, 480), (736, 1104, 704), (512, 1296, 928),\n",
       "       (560, 1104, 944), (560, 1296, 944), (544, 1120, 944),\n",
       "       (576, 1120, 944), (624, 1120, 944), (736, 1296, 704),\n",
       "       (608, 1104, 928), (384, 928, 944), (675, 1100, 477),\n",
       "       (452, 1283, 930), (467, 1283, 930), (520, 1102, 929),\n",
       "       (454, 1283, 929), (451, 1282, 930), (517, 1281, 929),\n",
       "       (416, 928, 944), (416, 928, 928), (678, 1099, 477),\n",
       "       (560, 1120, 944), (592, 1120, 944), (368, 928, 944),\n",
       "       (720, 1120, 480), (704, 1296, 496), (688, 1296, 496),\n",
       "       (704, 1296, 720), (592, 1296, 944), (512, 928, 944),\n",
       "       (944, 1296, 720), (688, 1120, 480), (400, 928, 928),\n",
       "       (720, 1296, 496), (528, 1120, 944), (608, 1296, 944),\n",
       "       (647, 1108, 707), (576, 1296, 928), (704, 3104, 944),\n",
       "       (560, 1296, 928), (544, 1296, 928), (608, 1280, 944),\n",
       "       (624, 1296, 944), (384, 1296, 944), (656, 1120, 480),\n",
       "       (672, 1120, 496), (672, 1296, 480), (736, 1280, 496),\n",
       "       (656, 1472, 480), (471, 1286, 928), (672, 3280, 944),\n",
       "       (432, 928, 944), (592, 1104, 944), (528, 1280, 944),\n",
       "       (512, 1280, 944), (536, 1282, 927), (640, 1280, 928),\n",
       "       (704, 1112, 482), (704, 1120, 496), (768, 1104, 480),\n",
       "       (720, 1296, 720), (720, 1120, 496), (624, 1104, 928),\n",
       "       (640, 1296, 944), (658, 3270, 943), (448, 928, 944),\n",
       "       (544, 1472, 944), (457, 1102, 931), (496, 1105, 928),\n",
       "       (526, 1279, 929), (456, 1286, 928), (484, 1286, 928),\n",
       "       (477, 1295, 938), (509, 1281, 926), (467, 1286, 928),\n",
       "       (506, 1281, 926), (582, 1280, 929), (688, 1120, 720),\n",
       "       (679, 1295, 483), (695, 1294, 711), (489, 1287, 928),\n",
       "       (687, 1294, 711), (688, 1110, 710), (705, 1100, 703),\n",
       "       (684, 1110, 711), (710, 1099, 702), (705, 1101, 704),\n",
       "       (493, 1282, 927), (566, 1288, 928), (499, 1113, 936),\n",
       "       (478, 1292, 940), (482, 1100, 927), (449, 1286, 928),\n",
       "       (538, 1100, 925), (460, 1106, 928), (473, 1280, 928),\n",
       "       (490, 1107, 929), (501, 1101, 926), (508, 1107, 929),\n",
       "       (492, 1101, 926), (482, 1108, 928), (494, 1102, 926),\n",
       "       (522, 1100, 926), (512, 1102, 926), (493, 1286, 928),\n",
       "       (496, 1287, 934), (683, 1111, 482), (581, 1288, 928),\n",
       "       (689, 1112, 482), (668, 1112, 482), (692, 1100, 702),\n",
       "       (499, 3447, 928), (689, 1101, 478), (684, 1100, 703),\n",
       "       (489, 1107, 929), (472, 1107, 928), (471, 1108, 928),\n",
       "       (501, 1101, 927), (488, 1100, 928), (520, 1292, 939),\n",
       "       (515, 1101, 930), (470, 1113, 938), (473, 1100, 928),\n",
       "       (508, 1103, 932), (476, 1114, 939), (496, 1102, 928),\n",
       "       (525, 1290, 928), (690, 1293, 482), (456, 1105, 926),\n",
       "       (680, 1111, 482), (695, 1111, 710), (495, 1280, 926),\n",
       "       (488, 1104, 932), (475, 1285, 927), (479, 1281, 927),\n",
       "       (516, 1280, 926), (501, 1101, 925), (530, 1104, 933),\n",
       "       (510, 1113, 939), (538, 1113, 937), (460, 1296, 937),\n",
       "       (468, 1107, 928), (677, 1100, 480), (457, 1108, 926),\n",
       "       (681, 1099, 703), (516, 1296, 936), (540, 1116, 937),\n",
       "       (695, 1281, 477), (682, 1100, 479), (508, 1103, 928),\n",
       "       (675, 1100, 703), (500, 1285, 929), (720, 1280, 701),\n",
       "       (695, 1101, 479), (693, 1100, 702), (424, 1283, 931),\n",
       "       (471, 1286, 929), (464, 1287, 927)], dtype=object)"
      ]
     },
     "execution_count": 117,
     "metadata": {},
     "output_type": "execute_result"
    }
   ],
   "execution_count": 117
  },
  {
   "metadata": {
    "ExecuteTime": {
     "end_time": "2025-09-26T17:11:26.776579Z",
     "start_time": "2025-09-26T17:11:26.773045Z"
    }
   },
   "cell_type": "code",
   "source": [
    "def get_axes(s3_client, base_path: str):\n",
    "    acquisition_meta_path = Path(base_path) / 'acquisition.json'\n",
    "    response = s3_client.get_object(Bucket='aind-open-data', Key=str(acquisition_meta_path))\n",
    "    acquisition_meta = json.loads(response['Body'].read())\n",
    "\n",
    "    axes = acquisition_meta['axes']\n",
    "    axes = [AcquisitionAxis(**x) for x in axes]\n",
    "    return axes"
   ],
   "id": "efc298b1141d435c",
   "outputs": [],
   "execution_count": 18
  },
  {
   "metadata": {
    "ExecuteTime": {
     "end_time": "2025-09-26T17:18:16.616606Z",
     "start_time": "2025-09-26T17:13:54.147191Z"
    }
   },
   "cell_type": "code",
   "source": [
    "import boto3\n",
    "s3_client = boto3.client('s3')\n",
    "\n",
    "dataset_meta = [\n",
    "    SubjectMetadata(\n",
    "        subject_id=row.subject_id,\n",
    "        stitched_volume_path=row.volume_path,\n",
    "        axes=get_axes(s3_client=s3_client, base_path=row.stitched_path),\n",
    "        registered_shape=row.registration_shape,\n",
    "        registered_resolution=row.registration_resolution,\n",
    "        ls_to_template_inverse_warp_path=Path(row.image_atlas_alignment_path) / 'ls_to_template_SyN_1InverseWarp.nii.gz',\n",
    "        ls_to_template_affine_matrix_path=Path(row.image_atlas_alignment_path) / 'ls_to_template_rigid_0GenericAffine.mat'\n",
    "    )\n",
    "for row in experiments.itertuples()]"
   ],
   "id": "5190cdeda9695a47",
   "outputs": [],
   "execution_count": 25
  },
  {
   "metadata": {
    "ExecuteTime": {
     "end_time": "2025-09-26T17:27:14.660331Z",
     "start_time": "2025-09-26T17:27:14.609491Z"
    }
   },
   "cell_type": "code",
   "source": [
    "with open('/Users/adam.amster/smartspim-registration/dataset_meta.json', 'w') as f:\n",
    "    f.write(json.dumps([json.loads(x.model_dump_json()) for x in dataset_meta], indent=2))"
   ],
   "id": "d8b0879d44f38e7e",
   "outputs": [],
   "execution_count": 32
  }
 ],
 "metadata": {
  "kernelspec": {
   "display_name": "Python 3",
   "language": "python",
   "name": "python3"
  },
  "language_info": {
   "codemirror_mode": {
    "name": "ipython",
    "version": 2
   },
   "file_extension": ".py",
   "mimetype": "text/x-python",
   "name": "python",
   "nbconvert_exporter": "python",
   "pygments_lexer": "ipython2",
   "version": "2.7.6"
  }
 },
 "nbformat": 4,
 "nbformat_minor": 5
}

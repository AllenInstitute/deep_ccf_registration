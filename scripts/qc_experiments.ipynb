{
 "cells": [
  {
   "cell_type": "code",
   "id": "initial_id",
   "metadata": {
    "collapsed": true,
    "ExecuteTime": {
     "end_time": "2025-10-14T14:59:42.476312Z",
     "start_time": "2025-10-14T14:59:42.133665Z"
    }
   },
   "source": [
    "import json\n",
    "import pandas as pd"
   ],
   "outputs": [],
   "execution_count": 2
  },
  {
   "metadata": {
    "ExecuteTime": {
     "end_time": "2025-10-14T14:59:58.625387Z",
     "start_time": "2025-10-14T14:59:58.622549Z"
    }
   },
   "cell_type": "code",
   "source": [
    "with open('/tmp/distances.json') as f:\n",
    "    distances = json.load(f)\n",
    "\n",
    "distances = pd.DataFrame(distances)"
   ],
   "id": "e2616db23b8fc9a0",
   "outputs": [],
   "execution_count": 4
  },
  {
   "metadata": {
    "ExecuteTime": {
     "end_time": "2025-10-14T15:00:31.032919Z",
     "start_time": "2025-10-14T15:00:31.026199Z"
    }
   },
   "cell_type": "code",
   "source": "distances.sort_values('roundtrip_distance')",
   "id": "eb79084951b0755a",
   "outputs": [
    {
     "data": {
      "text/plain": [
       "   subject_id  roundtrip_distance\n",
       "4      731677            0.052324\n",
       "57     753966            0.062801\n",
       "91     786840            0.063011\n",
       "19     819722            0.065431\n",
       "23     729527            0.066138\n",
       "..        ...                 ...\n",
       "60     751470         5540.203477\n",
       "34     733838         5543.819166\n",
       "85     744244         5546.906442\n",
       "81     752703         6064.496993\n",
       "64     734858         8497.823657\n",
       "\n",
       "[100 rows x 2 columns]"
      ],
      "text/html": [
       "<div>\n",
       "<style scoped>\n",
       "    .dataframe tbody tr th:only-of-type {\n",
       "        vertical-align: middle;\n",
       "    }\n",
       "\n",
       "    .dataframe tbody tr th {\n",
       "        vertical-align: top;\n",
       "    }\n",
       "\n",
       "    .dataframe thead th {\n",
       "        text-align: right;\n",
       "    }\n",
       "</style>\n",
       "<table border=\"1\" class=\"dataframe\">\n",
       "  <thead>\n",
       "    <tr style=\"text-align: right;\">\n",
       "      <th></th>\n",
       "      <th>subject_id</th>\n",
       "      <th>roundtrip_distance</th>\n",
       "    </tr>\n",
       "  </thead>\n",
       "  <tbody>\n",
       "    <tr>\n",
       "      <th>4</th>\n",
       "      <td>731677</td>\n",
       "      <td>0.052324</td>\n",
       "    </tr>\n",
       "    <tr>\n",
       "      <th>57</th>\n",
       "      <td>753966</td>\n",
       "      <td>0.062801</td>\n",
       "    </tr>\n",
       "    <tr>\n",
       "      <th>91</th>\n",
       "      <td>786840</td>\n",
       "      <td>0.063011</td>\n",
       "    </tr>\n",
       "    <tr>\n",
       "      <th>19</th>\n",
       "      <td>819722</td>\n",
       "      <td>0.065431</td>\n",
       "    </tr>\n",
       "    <tr>\n",
       "      <th>23</th>\n",
       "      <td>729527</td>\n",
       "      <td>0.066138</td>\n",
       "    </tr>\n",
       "    <tr>\n",
       "      <th>...</th>\n",
       "      <td>...</td>\n",
       "      <td>...</td>\n",
       "    </tr>\n",
       "    <tr>\n",
       "      <th>60</th>\n",
       "      <td>751470</td>\n",
       "      <td>5540.203477</td>\n",
       "    </tr>\n",
       "    <tr>\n",
       "      <th>34</th>\n",
       "      <td>733838</td>\n",
       "      <td>5543.819166</td>\n",
       "    </tr>\n",
       "    <tr>\n",
       "      <th>85</th>\n",
       "      <td>744244</td>\n",
       "      <td>5546.906442</td>\n",
       "    </tr>\n",
       "    <tr>\n",
       "      <th>81</th>\n",
       "      <td>752703</td>\n",
       "      <td>6064.496993</td>\n",
       "    </tr>\n",
       "    <tr>\n",
       "      <th>64</th>\n",
       "      <td>734858</td>\n",
       "      <td>8497.823657</td>\n",
       "    </tr>\n",
       "  </tbody>\n",
       "</table>\n",
       "<p>100 rows × 2 columns</p>\n",
       "</div>"
      ]
     },
     "execution_count": 6,
     "metadata": {},
     "output_type": "execute_result"
    }
   ],
   "execution_count": 6
  },
  {
   "metadata": {
    "ExecuteTime": {
     "end_time": "2025-10-14T16:18:43.334413Z",
     "start_time": "2025-10-14T16:18:30.658853Z"
    }
   },
   "cell_type": "code",
   "source": [
    "from deep_ccf_registration.datasets.slice_dataset import AcquisitionAxis\n",
    "\n",
    "\n",
    "def _parse_orientation(axes: list[AcquisitionAxis]):\n",
    "    axes = sorted(axes, key=lambda x: x.dimension)\n",
    "    return ''.join([x.direction.value[0] for x in axes])"
   ],
   "id": "d0ce2695260c931b",
   "outputs": [],
   "execution_count": 7
  },
  {
   "metadata": {},
   "cell_type": "code",
   "outputs": [],
   "execution_count": null,
   "source": "",
   "id": "eb6bf0e535abf77b"
  }
 ],
 "metadata": {
  "kernelspec": {
   "display_name": "Python 3",
   "language": "python",
   "name": "python3"
  },
  "language_info": {
   "codemirror_mode": {
    "name": "ipython",
    "version": 2
   },
   "file_extension": ".py",
   "mimetype": "text/x-python",
   "name": "python",
   "nbconvert_exporter": "python",
   "pygments_lexer": "ipython2",
   "version": "2.7.6"
  }
 },
 "nbformat": 4,
 "nbformat_minor": 5
}
